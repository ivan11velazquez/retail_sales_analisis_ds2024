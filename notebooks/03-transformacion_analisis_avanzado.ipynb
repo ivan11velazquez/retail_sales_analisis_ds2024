{
 "cells": [
  {
   "cell_type": "code",
   "execution_count": 11,
   "metadata": {},
   "outputs": [],
   "source": [
    "\n",
    "import pandas as pd\n",
    "import numpy as np\n",
    "from datetime import datetime\n",
    "\n"
   ]
  },
  {
   "cell_type": "markdown",
   "metadata": {},
   "source": [
    "1. Transformacion de datos"
   ]
  },
  {
   "cell_type": "code",
   "execution_count": 12,
   "metadata": {},
   "outputs": [],
   "source": [
    "def transformar_datos(df):\n",
    "\n",
    "    df_transformed = df.copy()\n",
    "    \n",
    "\n",
    "    # Calcular métricas de ventas\n",
    "    df_transformed['Revenue_per_Unit'] = df_transformed['Total Amount'] / df_transformed['Quantity']\n",
    "    df_transformed['Sales_Normalized'] = (df_transformed['Total Amount'] - df_transformed['Total Amount'].min()) / \\\n",
    "                                       (df_transformed['Total Amount'].max() - df_transformed['Total Amount'].min())\n",
    "    \n",
    "    # Clasificar ventas\n",
    "    conditions = [\n",
    "        (df_transformed['Total Amount'] <= 100),\n",
    "        (df_transformed['Total Amount'] <= 500),\n",
    "        (df_transformed['Total Amount'] > 500)\n",
    "    ]\n",
    "    choices = ['Baja', 'Media', 'Alta']\n",
    "    df_transformed['Sales_Category'] = np.select(conditions, choices, default='No Clasificado')\n",
    "    \n",
    "    return df_transformed"
   ]
  },
  {
   "cell_type": "markdown",
   "metadata": {},
   "source": [
    "2. Agregacion y agrupacion"
   ]
  },
  {
   "cell_type": "code",
   "execution_count": 13,
   "metadata": {},
   "outputs": [],
   "source": [
    "def analizar_grupos(df):\n",
    "    \n",
    "    # Análisis por categoría de producto\n",
    "    product_analysis = df.groupby('Product Category').agg({\n",
    "        'Total Amount': ['count', 'sum', 'mean', 'std'],\n",
    "        'Quantity': ['sum', 'mean'],\n",
    "        'Transaction ID': 'count'\n",
    "    }).round(2)\n",
    "    \n",
    "\n",
    "    # Análisis demográfico\n",
    "    demographic_analysis = df.groupby(['Gender', 'Product Category']).agg({\n",
    "        'Total Amount': ['sum', 'mean', 'count'],\n",
    "        'Age': ['mean', 'min', 'max']\n",
    "    }).round(2)\n",
    "    \n",
    "    return {\n",
    "        'product_analysis': product_analysis,\n",
    "        'demographic_analysis': demographic_analysis\n",
    "    }"
   ]
  },
  {
   "cell_type": "markdown",
   "metadata": {},
   "source": [
    "3. Análisis Personalizado con apply"
   ]
  },
  {
   "cell_type": "code",
   "execution_count": 14,
   "metadata": {},
   "outputs": [],
   "source": [
    "def analisis_personalizado(df):\n",
    "    \"\"\"\n",
    "    Ejercicio de análisis personalizado usando apply que incluye:\n",
    "    - Funciones personalizadas\n",
    "    - Cálculos específicos por grupo\n",
    "    - Transformaciones avanzadas\n",
    "    \"\"\"\n",
    "    # Función para calcular el percentil de venta dentro de su categoría\n",
    "    def calcular_percentil(x):\n",
    "        return x.rank(pct=True)\n",
    "    \n",
    "    # Función para determinar si una venta está por encima de la media de su categoría\n",
    "    def comparar_con_media(x):\n",
    "        return 'Por encima' if x > 0 else 'Por debajo'\n",
    "    \n",
    "    # Crear DataFrame para análisis personalizado\n",
    "    df_custom = df.copy()\n",
    "    \n",
    "    # Calcular percentil de ventas por categoría\n",
    "    df_custom['Sales_Percentile'] = df_custom.groupby('Product Category')['Total Amount'].transform(calcular_percentil)\n",
    "    \n",
    "    # Calcular desviación respecto a la media de la categoría\n",
    "    df_custom['Category_Mean_Deviation'] = df_custom.groupby('Product Category')['Total Amount'].transform(\n",
    "        lambda x: x - x.mean()\n",
    "    )\n",
    "    \n",
    "    # Clasificar ventas respecto a la media\n",
    "    df_custom['Performance_vs_Mean'] = df_custom['Category_Mean_Deviation'].apply(comparar_con_media)\n",
    "    \n",
    "    # Calcular métricas avanzadas\n",
    "    df_custom['Price_per_Unit_Rank'] = df_custom.groupby('Product Category')['Price per Unit'].transform(\n",
    "        lambda x: x.rank(method='dense')\n",
    "    )\n",
    "    \n",
    "    return df_custom"
   ]
  },
  {
   "cell_type": "markdown",
   "metadata": {},
   "source": [
    "Ejecucion de metodos"
   ]
  },
  {
   "cell_type": "code",
   "execution_count": 15,
   "metadata": {},
   "outputs": [
    {
     "name": "stdout",
     "output_type": "stream",
     "text": [
      "\n",
      "Resultados de transformación:\n",
      "   Transaction ID        Date Customer ID  Gender  Age Product Category  \\\n",
      "0               1  2023-11-24     CUST001    Male   34           Beauty   \n",
      "1               2  2023-02-27     CUST002  Female   26         Clothing   \n",
      "2               3  2023-01-13     CUST003    Male   50      Electronics   \n",
      "3               4  2023-05-21     CUST004    Male   37         Clothing   \n",
      "4               5  2023-05-06     CUST005    Male   30           Beauty   \n",
      "\n",
      "   Quantity  Price per Unit  Total Amount  Revenue_per_Unit  Sales_Normalized  \\\n",
      "0         3              50           150              50.0          0.063291   \n",
      "1         2             500          1000             500.0          0.493671   \n",
      "2         1              30            30              30.0          0.002532   \n",
      "3         1             500           500             500.0          0.240506   \n",
      "4         2              50           100              50.0          0.037975   \n",
      "\n",
      "  Sales_Category  \n",
      "0          Media  \n",
      "1           Alta  \n",
      "2           Baja  \n",
      "3          Media  \n",
      "4           Baja  \n",
      "\n",
      "Resultados de agrupación:\n",
      "                 Total Amount                         Quantity        \\\n",
      "                        count     sum    mean     std      sum  mean   \n",
      "Product Category                                                       \n",
      "Beauty                    307  143515  467.48  563.61      771  2.51   \n",
      "Clothing                  351  155580  443.25  550.70      894  2.55   \n",
      "Electronics               342  156905  458.79  567.54      849  2.48   \n",
      "\n",
      "                 Transaction ID  \n",
      "                          count  \n",
      "Product Category                 \n",
      "Beauty                      307  \n",
      "Clothing                    351  \n",
      "Electronics                 342  \n",
      "\n",
      "Resultados de análisis personalizado:\n",
      "   Transaction ID        Date Customer ID  Gender  Age Product Category  \\\n",
      "0               1  2023-11-24     CUST001    Male   34           Beauty   \n",
      "1               2  2023-02-27     CUST002  Female   26         Clothing   \n",
      "2               3  2023-01-13     CUST003    Male   50      Electronics   \n",
      "3               4  2023-05-21     CUST004    Male   37         Clothing   \n",
      "4               5  2023-05-06     CUST005    Male   30           Beauty   \n",
      "\n",
      "   Quantity  Price per Unit  Total Amount  Sales_Percentile  \\\n",
      "0         3              50           150          0.522801   \n",
      "1         2             500          1000          0.836182   \n",
      "2         1              30            30          0.068713   \n",
      "3         1             500           500          0.682336   \n",
      "4         2              50           100          0.416938   \n",
      "\n",
      "   Category_Mean_Deviation Performance_vs_Mean  Price_per_Unit_Rank  \n",
      "0              -317.475570          Por debajo                  3.0  \n",
      "1               556.752137          Por encima                  5.0  \n",
      "2              -428.786550          Por debajo                  2.0  \n",
      "3                56.752137          Por encima                  5.0  \n",
      "4              -367.475570          Por debajo                  3.0  \n"
     ]
    }
   ],
   "source": [
    "df = pd.read_csv('../data/retail_sales_dataset.csv')\n",
    "df_transformada = transformar_datos(df)\n",
    "print(\"\\nResultados de transformación:\")\n",
    "print(df_transformada.head())\n",
    "\n",
    "resultados_grupos = analizar_grupos(df)\n",
    "print(\"\\nResultados de agrupación:\")\n",
    "print(resultados_grupos['product_analysis'])\n",
    "\n",
    "df_custom = analisis_personalizado(df)\n",
    "print(\"\\nResultados de análisis personalizado:\")\n",
    "print(df_custom.head())"
   ]
  }
 ],
 "metadata": {
  "kernelspec": {
   "display_name": "env_ds",
   "language": "python",
   "name": "python3"
  },
  "language_info": {
   "codemirror_mode": {
    "name": "ipython",
    "version": 3
   },
   "file_extension": ".py",
   "mimetype": "text/x-python",
   "name": "python",
   "nbconvert_exporter": "python",
   "pygments_lexer": "ipython3",
   "version": "3.12.7"
  }
 },
 "nbformat": 4,
 "nbformat_minor": 2
}
