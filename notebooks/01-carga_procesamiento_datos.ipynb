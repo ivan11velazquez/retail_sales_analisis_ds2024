{
 "cells": [
  {
   "cell_type": "code",
   "execution_count": 33,
   "metadata": {},
   "outputs": [
    {
     "name": "stdout",
     "output_type": "stream",
     "text": [
      "2023-11-24\n",
      "Beauty\n",
      "2023-02-27\n",
      "Clothing\n"
     ]
    },
    {
     "ename": "TypeError",
     "evalue": "argument of type 'numpy.float64' is not iterable",
     "output_type": "error",
     "traceback": [
      "\u001b[1;31m---------------------------------------------------------------------------\u001b[0m",
      "\u001b[1;31mTypeError\u001b[0m                                 Traceback (most recent call last)",
      "Cell \u001b[1;32mIn[33], line 70\u001b[0m\n\u001b[0;32m     67\u001b[0m datos \u001b[38;5;241m=\u001b[39m cargar_datos(ruta_archivo)\n\u001b[0;32m     68\u001b[0m \u001b[38;5;66;03m# Exploracion de datos\u001b[39;00m\n\u001b[0;32m     69\u001b[0m \u001b[38;5;66;03m#total_ventas_cat = calcular_total_ventas_categoria(datos)\u001b[39;00m\n\u001b[1;32m---> 70\u001b[0m \u001b[43mcalcular_promedio_ventas_por_producto_por_dia\u001b[49m\u001b[43m(\u001b[49m\u001b[43mdatos\u001b[49m\u001b[43m)\u001b[49m\n",
      "Cell \u001b[1;32mIn[33], line 31\u001b[0m, in \u001b[0;36mcalcular_promedio_ventas_por_producto_por_dia\u001b[1;34m(data)\u001b[0m\n\u001b[0;32m     27\u001b[0m \u001b[38;5;28mprint\u001b[39m(categoria)\n\u001b[0;32m     29\u001b[0m llave \u001b[38;5;241m=\u001b[39m (categoria, fecha)\n\u001b[1;32m---> 31\u001b[0m \u001b[38;5;28;01mif\u001b[39;00m \u001b[43mllave\u001b[49m\u001b[43m \u001b[49m\u001b[38;5;129;43;01min\u001b[39;49;00m\u001b[43m \u001b[49m\u001b[43mventas_por_categoria_dias\u001b[49m:\n\u001b[0;32m     32\u001b[0m     ventas_por_categoria_dias[llave] \u001b[38;5;241m+\u001b[39m\u001b[38;5;241m=\u001b[39m venta\n\u001b[0;32m     33\u001b[0m \u001b[38;5;28;01melse\u001b[39;00m:\n",
      "\u001b[1;31mTypeError\u001b[0m: argument of type 'numpy.float64' is not iterable"
     ]
    }
   ],
   "source": [
    "import numpy as np\n",
    "import math\n",
    "import datetime\n",
    "\n",
    "# Función para cargar los datos\n",
    "def cargar_datos(ruta_archivo):\n",
    "    datos = np.genfromtxt(ruta_archivo, delimiter=',', skip_header=1, dtype='str')\n",
    "    return datos\n",
    "\n",
    "def calcular_promedio_ventas_por_producto_por_dia(data):\n",
    "    arr = np.array(data)\n",
    "    fechas = arr[:,1] # se carga la columna fecha\n",
    "    categorias = arr[:, 5] # se carga la columna categorias\n",
    "    ventas = arr[:, 8].astype(float) # se carga la columna totales y se formatea a float\n",
    "\n",
    "    # convertir fechas a tipo datetime\n",
    "    fechas = np.array([datetime.datetime.strptime(date, '%Y-%m-%d') for date in fechas])\n",
    "    \n",
    "    # diccionario para almacenar las ventas diarias por categoría\n",
    "    ventas_por_categoria_dias = {}\n",
    "    for i in range(len(arr)):\n",
    "        fecha = fechas[i].date() \n",
    "        categoria = categorias[i]\n",
    "        venta = ventas[i]\n",
    "        \n",
    "        print(fecha)\n",
    "        print(categoria)\n",
    "\n",
    "        llave = (categoria, fecha)\n",
    "\n",
    "        if llave in ventas_por_categoria_dias:\n",
    "            ventas_por_categoria_dias[llave] += venta\n",
    "        else:\n",
    "            ventas_por_categoria_dias = venta\n",
    "\n",
    "\n",
    "    sumario_ventas = {}\n",
    "\n",
    "    for llave, ventas_totales in ventas_por_categoria_dias.items():\n",
    "        categoria, fecha = key\n",
    "        \n",
    "        if categoria in sumario_ventas:\n",
    "            sumario_ventas[categoria]['total_sales'] += ventas_totales\n",
    "            sumario_ventas[categoria]['days'] += 1\n",
    "        else:\n",
    "            sumario_ventas[categoria] = {'total_ventas': ventas_totales, 'days': 1}\n",
    "\n",
    "    # Calcular el promedio de ventas diarias por categoría\n",
    "    for categoria, summary in sumario_ventas.items():\n",
    "        promedio_ventas = summary['total_sales'] / summary['days']\n",
    "        print(f'Categoría: {categoria}, Promedio diario de ventas: {promedio_ventas:.2f}')\n",
    "\n",
    "\n",
    "def calcular_total_ventas_categoria(data):\n",
    "\n",
    "    arr = np.array(data)\n",
    "    categorias = arr[:, 5]\n",
    "    monto_total = arr[:, 8].astype(float)\n",
    "\n",
    "    categorias_unicas = np.unique(categorias)\n",
    "    for categoria in categorias_unicas:\n",
    "        total_sales = np.sum(monto_total[categorias == categoria])\n",
    "        print(f'Categoría: {categoria}, Total de ventas: {math.floor(total_sales)} unidades')\n",
    "\n",
    "# Ejecución\n",
    "ruta_archivo = '../data/retail_sales_dataset.csv'\n",
    "datos = cargar_datos(ruta_archivo)\n",
    "# Exploracion de datos\n",
    "#total_ventas_cat = calcular_total_ventas_categoria(datos)\n",
    "calcular_promedio_ventas_por_producto_por_dia(datos)"
   ]
  }
 ],
 "metadata": {
  "kernelspec": {
   "display_name": "env_ds",
   "language": "python",
   "name": "python3"
  },
  "language_info": {
   "codemirror_mode": {
    "name": "ipython",
    "version": 3
   },
   "file_extension": ".py",
   "mimetype": "text/x-python",
   "name": "python",
   "nbconvert_exporter": "python",
   "pygments_lexer": "ipython3",
   "version": "3.12.7"
  }
 },
 "nbformat": 4,
 "nbformat_minor": 2
}
